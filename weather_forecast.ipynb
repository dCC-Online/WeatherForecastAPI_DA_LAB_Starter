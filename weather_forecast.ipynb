{
 "cells": [
  {
   "cell_type": "markdown",
   "metadata": {},
   "source": [
    "# API Scavenger Hunt! 👀\n",
    "\n",
    "## Introduction 👋\n",
    "In this lab, you will learn the fundamentals of working with APIs as a data analyst by making `requests` to an API and formatting the `response` data appropriately. Each task will offer a different challenge, such as: \n",
    "\n",
    "- working with different request parameters and query parameters, \n",
    "- using API keys and tokens, and \n",
    "- eventually signing up for and making requests from the Open Weather Map API, then exporting data from that request to JSON and importing the JSON into Tableau.\n",
    "\n",
    "## Resources 📕\n",
    "We recommend having the following Student Hub articles open while making your requests\n",
    "- [RESTful APIs](https://devcodecamp.helpkit.so/definitions-examples-and-frequently-asked-questions/vUgiURdNAgva1AaaH99uBY/rest-apis/oN6ZdGaNop8f52gx43kTj6)\n",
    "- [Importing & Exporting JSON with Pandas](https://devcodecamp.helpkit.so/definitions-examples-and-frequently-asked-questions/vUgiURdNAgva1AaaH99uBY/importing--exporting-data-with-pandas/3gXNpDMk4fkWP6zdepRCod#json-files)"
   ]
  },
  {
   "cell_type": "markdown",
   "metadata": {},
   "source": [
    "---\n",
    "## Task 0: Imports\n",
    "---\n",
    "- ✅ In the code block below, import the `requests`, `pandas`, and `json` packages\n",
    "    - > 👉🏼 The imports should be written as three different lines. Don't forget the alias for Pandas!"
   ]
  },
  {
   "cell_type": "code",
   "execution_count": null,
   "metadata": {},
   "outputs": [],
   "source": []
  },
  {
   "cell_type": "markdown",
   "metadata": {},
   "source": [
    "---\n",
    "## Task 1: Current Forecast\n",
    "---\n",
    "The Open Weather Map API is a popular, open source API for weather forecasts that includes future weather, historical weather data, pollution and air quality forecasting, and more!\n",
    "\n",
    "For the purpose of this lab, we will focus on two main features of Open Weather Map API:\n",
    "- Current Weather Data\n",
    "- 5 Day / 3 Hour Forecast Data\n",
    "\n",
    "We'll use this API to get practice with basic API usage and documentation parsing.\n",
    "\n",
    "### Subtask 1: Create Open Weather Map API Account & Obtain Key\n",
    "- ✅ Navigate to the following website and locate the `Sign In` page: 👉🏼 [Open Weather Map API](https://openweathermap.org/) 👈🏻\n",
    "    - Click the option to **Create a new account**\n",
    "- ✅ After creating your account, check your email for a verification message from Open Weather Map API\n",
    "- ✅ Locate the API Key (Select your username in the top right --> My API Keys) and set it equal to a variable called `key` in the code block below. (Make sure it is a string!)"
   ]
  },
  {
   "cell_type": "code",
   "execution_count": null,
   "metadata": {},
   "outputs": [],
   "source": [
    "key = \"\""
   ]
  },
  {
   "cell_type": "markdown",
   "metadata": {},
   "source": [
    "### Subtask 2: Calculate Latitude & Longitude of Your Location\n",
    "- ✅ Navigate to the following website: 👉🏼 [GPS Coordinates](https://www.gps-coordinates.net/my-location) 👈🏻\n",
    "- ✅ When prompted, allow the browser to access your current location\n",
    "- ✅ Note the values for Latitude and Longitude, and set them equal to the variables called `lat` and `lon` in the code block below. (Make sure it is a number!)"
   ]
  },
  {
   "cell_type": "code",
   "execution_count": null,
   "metadata": {},
   "outputs": [],
   "source": [
    "lat = 0.00\n",
    "lon = 0.00"
   ]
  },
  {
   "cell_type": "markdown",
   "metadata": {},
   "source": [
    "### Subtask 3: Generate Request URL\n",
    "TODO\n",
    "- ✅ Navigate to the following website  👉🏼 [API Documentation](https://openweathermap.org/api) 👈🏻\n",
    "- ✅ Locate the documentation for the **Current Weather Data** API\n",
    "- ✅ Copy the URL for this API, and store it in the `url` variable below.  Use a **Python f string** to insert your latitude, longitude, and API key values into the URL"
   ]
  },
  {
   "cell_type": "code",
   "execution_count": null,
   "metadata": {},
   "outputs": [],
   "source": [
    "url = f\"\""
   ]
  },
  {
   "cell_type": "markdown",
   "metadata": {},
   "source": [
    "### Subtask 4: GET your current weather forecast.  \n",
    "TODO\n",
    "- ✅ Use the above URL to make a GET request, and save the result as a variable\n",
    "- ✅ \"Prettify\" the response & print it out, then open the output in a text editor for easy reference.  \n",
    "    - > Use that output to answer the questions in the Markdown block below"
   ]
  },
  {
   "cell_type": "code",
   "execution_count": null,
   "metadata": {},
   "outputs": [],
   "source": []
  },
  {
   "cell_type": "markdown",
   "metadata": {},
   "source": [
    "QUESTION 1\n",
    "- ❓ What is the **wind speed** for your current location?\n",
    "- 🅰️:\n",
    "\n",
    "QUESTION 2\n",
    "- ❓ How would you access the value for **wind speed** within this response?\n",
    "- 🅰️: `wind_speed = `\n",
    "\n",
    "QUESTION 3\n",
    "- ❓ What is the **weather description** for your current location?\n",
    "- 🅰️:\n",
    "\n",
    "QUESTION 4\n",
    "- ❓ How would you access the value for **weather description** within this response?\n",
    "- 🅰️: `weather_description = `\n"
   ]
  },
  {
   "cell_type": "markdown",
   "metadata": {},
   "source": [
    "---\n",
    "## Task 2: 5 Day / 3 Hour Forecast\n",
    "---\n",
    "\n",
    "### Subtask 1: Find the Forecast URL\n",
    "Todo\n",
    "- ✅ Navigate to the following website  👉🏼 [API Documentation](https://openweathermap.org/api) 👈🏻\n",
    "- ✅ Locate the documentation for the **5 Day / 3 Hour Forecast** API\n",
    "- ✅ Copy the URL for this API, and store it in the `forecast_url` variable below.  Use a **Python f string** to insert your latitude, longitude, and API key values into the URL\n",
    "- ✅ Add the following additional parameter to the **end** of `forecast_url`, to convert temperature to Fahrenheit \n",
    "    - > **`&units=imperial`**"
   ]
  },
  {
   "cell_type": "code",
   "execution_count": null,
   "metadata": {},
   "outputs": [],
   "source": [
    "forecast_url = f\"\""
   ]
  },
  {
   "cell_type": "markdown",
   "metadata": {},
   "source": [
    "### Subtask 2: GET your 5-day weather forecast. \n",
    "TODO\n",
    "- ✅ Use the above URL to make a GET request, and save the result as a variable\n",
    "- ✅ \"Prettify\" the response & print it out, then open the output in a text editor for easy reference.  "
   ]
  },
  {
   "cell_type": "code",
   "execution_count": null,
   "metadata": {},
   "outputs": [],
   "source": []
  },
  {
   "cell_type": "markdown",
   "metadata": {},
   "source": [
    "### Subtask 3: Prepare Data for Cleaning\n",
    "TODO\n",
    "- ✅ Examine the outputted JSON data, and locate the property that holds a **list of weather forecasts**\n",
    "- ✅ Save this list of weather forecasts as the variable `forecast_list` below"
   ]
  },
  {
   "cell_type": "code",
   "execution_count": null,
   "metadata": {},
   "outputs": [],
   "source": [
    "forecast_list = "
   ]
  },
  {
   "cell_type": "markdown",
   "metadata": {},
   "source": [
    "### Subtask 4: Data Extraction\n",
    "TODO\n",
    "- ✅ Loop through each value within `forecast_list`, and perform the following:\n",
    "    - ✅ Using square brackets, extract the following properties into their own variable:\n",
    "        - Timestamp\n",
    "        - Temperature\n",
    "        - \"Feels Like\" Temperature\n",
    "        - Wind Speed\n",
    "        - Humidity\n",
    "    - ✅ Create a **Dictionary** with key:value pairs for each of the above properties\n",
    "    - ✅ Append that dictionary to the `data_list` list variable"
   ]
  },
  {
   "cell_type": "code",
   "execution_count": null,
   "metadata": {},
   "outputs": [],
   "source": [
    "data_list = []"
   ]
  },
  {
   "cell_type": "markdown",
   "metadata": {},
   "source": [
    "### Subtask 5: DataFrame Creation & Munging\n",
    "TODO\n",
    "- ✅ Using the Pandas DataFrame `.from_records()` method, create a new DataFrame from `data_list`, and save as a variable\n",
    "- ✅ Use the appropriate Pandas method to convert the `timestamp` column to DateTime format"
   ]
  },
  {
   "cell_type": "code",
   "execution_count": null,
   "metadata": {},
   "outputs": [],
   "source": []
  },
  {
   "cell_type": "markdown",
   "metadata": {},
   "source": [
    "### Subtask 6: Export Data to JSON\n",
    "TODO\n",
    "- ✅ Use the appropriate Pandas function to export your DataFrame to **JSON format**\n",
    "    - Name your file `forecastdata.json`\n",
    "    - Use the orientation **`records`** when outputting\n",
    "    - Include the argument **`date_format=\"iso\"`** to ensure all DateTime values are exported correctly!"
   ]
  },
  {
   "cell_type": "code",
   "execution_count": null,
   "metadata": {},
   "outputs": [],
   "source": []
  },
  {
   "cell_type": "markdown",
   "metadata": {},
   "source": [
    "### Subtask 7: Data Visualization with Tableau\n",
    "TODO\n",
    "- ✅ Within Tableau, import your `forecastdata.json` file\n",
    "- ✅ Ensure that the `timestamp` column has been converted to Date & Time\n",
    "- ✅ Create **two** visualizations exploring trends and patterns in your area's 5-day forecast\n",
    "- ✅ Save these visualizations to Tableau Public, then download a copy of the workbook, and include it in your repository folder"
   ]
  }
 ],
 "metadata": {
  "language_info": {
   "name": "python"
  },
  "orig_nbformat": 4
 },
 "nbformat": 4,
 "nbformat_minor": 2
}
